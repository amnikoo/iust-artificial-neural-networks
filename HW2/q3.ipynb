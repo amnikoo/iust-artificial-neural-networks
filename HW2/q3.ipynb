{
  "nbformat": 4,
  "nbformat_minor": 0,
  "metadata": {
    "colab": {
      "name": "Untitled12.ipynb",
      "provenance": [],
      "collapsed_sections": []
    },
    "kernelspec": {
      "name": "python3",
      "display_name": "Python 3"
    }
  },
  "cells": [
    {
      "cell_type": "code",
      "metadata": {
        "id": "Ax1vrOgZfgvW"
      },
      "source": [
        "import numpy as np"
      ],
      "execution_count": 1,
      "outputs": []
    },
    {
      "cell_type": "code",
      "metadata": {
        "id": "6yxYeADaaEsx"
      },
      "source": [
        "first_pattern = np.array([[1, 1, -1, 1],\r\n",
        "                          [-1, -1, 1, -1],\r\n",
        "                          [-1, -1, 1, -1],\r\n",
        "                          [1, 1, -1, 1]])\r\n",
        "second_pattern = np.array([[1, 1, -1, 1],\r\n",
        "                           [-1, -1, 1, -1],\r\n",
        "                           [-1, 1, -1, 1],\r\n",
        "                           [1, -1, -1, 1]])\r\n",
        "third_pattern = np.array([[-1, 1, 1, -1],\r\n",
        "                          [-1, -1, 1, 1],\r\n",
        "                          [-1, 1, -1, 1],\r\n",
        "                          [1, -1, -1, -1]])"
      ],
      "execution_count": 2,
      "outputs": []
    },
    {
      "cell_type": "code",
      "metadata": {
        "id": "fN6CtinifYAQ"
      },
      "source": [
        "first_pattern_flattened = first_pattern.flatten()\r\n",
        "second_pattern_flattened = second_pattern.flatten()\r\n",
        "third_pattern_flattened = third_pattern.flatten()"
      ],
      "execution_count": 3,
      "outputs": []
    },
    {
      "cell_type": "code",
      "metadata": {
        "colab": {
          "base_uri": "https://localhost:8080/"
        },
        "id": "g6P0T6u9gqq-",
        "outputId": "ddecc863-98e9-47ba-f94c-6fb2ccf23458"
      },
      "source": [
        "print(\"first_pattern_flattened =\", first_pattern_flattened)\r\n",
        "print(\"second_pattern_flattened =\", second_pattern_flattened)\r\n",
        "print(\"third_pattern_flattened =\", third_pattern_flattened)"
      ],
      "execution_count": 4,
      "outputs": [
        {
          "output_type": "stream",
          "text": [
            "first_pattern_flattened = [ 1  1 -1  1 -1 -1  1 -1 -1 -1  1 -1  1  1 -1  1]\n",
            "second_pattern_flattened = [ 1  1 -1  1 -1 -1  1 -1 -1  1 -1  1  1 -1 -1  1]\n",
            "third_pattern_flattened = [-1  1  1 -1 -1 -1  1  1 -1  1 -1  1  1 -1 -1 -1]\n"
          ],
          "name": "stdout"
        }
      ]
    },
    {
      "cell_type": "code",
      "metadata": {
        "id": "1023Y7YImVx5"
      },
      "source": [
        "my_patterns = np.array([first_pattern_flattened, second_pattern_flattened, third_pattern_flattened])"
      ],
      "execution_count": 5,
      "outputs": []
    },
    {
      "cell_type": "code",
      "metadata": {
        "id": "ug9Y82-5fuZm"
      },
      "source": [
        "def hopfield_weight(patterns):\r\n",
        "  N = patterns.shape[1]\r\n",
        "  weight = np.zeros((N, N))\r\n",
        "  for i in range(N):\r\n",
        "    for j in range(N):\r\n",
        "      if i==j:\r\n",
        "            weight[i, j] = 0\r\n",
        "      else:\r\n",
        "        for pattern in patterns:\r\n",
        "            weight[i, j] += np.sum((pattern[i] * pattern[j]))\r\n",
        "  #weight /= N\r\n",
        "  return weight"
      ],
      "execution_count": 6,
      "outputs": []
    },
    {
      "cell_type": "code",
      "metadata": {
        "colab": {
          "base_uri": "https://localhost:8080/"
        },
        "id": "A1gWOb2eo2Ez",
        "outputId": "b007572e-5bcd-4f64-b94b-d46b308105d9"
      },
      "source": [
        "my_weight = hopfield_weight(my_patterns)\r\n",
        "print(my_weight)"
      ],
      "execution_count": 7,
      "outputs": [
        {
          "output_type": "stream",
          "text": [
            "[[ 0.  1. -3.  3. -1. -1.  1. -3. -1. -1.  1. -1.  1.  1. -1.  3.]\n",
            " [ 1.  0. -1.  1. -3. -3.  3. -1. -3.  1. -1.  1.  3. -1. -3.  1.]\n",
            " [-3. -1.  0. -3.  1.  1. -1.  3.  1.  1. -1.  1. -1. -1.  1. -3.]\n",
            " [ 3.  1. -3.  0. -1. -1.  1. -3. -1. -1.  1. -1.  1.  1. -1.  3.]\n",
            " [-1. -3.  1. -1.  0.  3. -3.  1.  3. -1.  1. -1. -3.  1.  3. -1.]\n",
            " [-1. -3.  1. -1.  3.  0. -3.  1.  3. -1.  1. -1. -3.  1.  3. -1.]\n",
            " [ 1.  3. -1.  1. -3. -3.  0. -1. -3.  1. -1.  1.  3. -1. -3.  1.]\n",
            " [-3. -1.  3. -3.  1.  1. -1.  0.  1.  1. -1.  1. -1. -1.  1. -3.]\n",
            " [-1. -3.  1. -1.  3.  3. -3.  1.  0. -1.  1. -1. -3.  1.  3. -1.]\n",
            " [-1.  1.  1. -1. -1. -1.  1.  1. -1.  0. -3.  3.  1. -3. -1. -1.]\n",
            " [ 1. -1. -1.  1.  1.  1. -1. -1.  1. -3.  0. -3. -1.  3.  1.  1.]\n",
            " [-1.  1.  1. -1. -1. -1.  1.  1. -1.  3. -3.  0.  1. -3. -1. -1.]\n",
            " [ 1.  3. -1.  1. -3. -3.  3. -1. -3.  1. -1.  1.  0. -1. -3.  1.]\n",
            " [ 1. -1. -1.  1.  1.  1. -1. -1.  1. -3.  3. -3. -1.  0.  1.  1.]\n",
            " [-1. -3.  1. -1.  3.  3. -3.  1.  3. -1.  1. -1. -3.  1.  0. -1.]\n",
            " [ 3.  1. -3.  3. -1. -1.  1. -3. -1. -1.  1. -1.  1.  1. -1.  0.]]\n"
          ],
          "name": "stdout"
        }
      ]
    },
    {
      "cell_type": "code",
      "metadata": {
        "colab": {
          "base_uri": "https://localhost:8080/"
        },
        "id": "o1NixViHo5GC",
        "outputId": "ef5f0e03-6d99-48af-974c-15b665b56ee9"
      },
      "source": [
        "N = my_patterns.shape[1]\r\n",
        "my_scaled_weight = hopfield_weight(my_patterns) / N\r\n",
        "print(my_scaled_weight)"
      ],
      "execution_count": 8,
      "outputs": [
        {
          "output_type": "stream",
          "text": [
            "[[ 0.      0.0625 -0.1875  0.1875 -0.0625 -0.0625  0.0625 -0.1875 -0.0625\n",
            "  -0.0625  0.0625 -0.0625  0.0625  0.0625 -0.0625  0.1875]\n",
            " [ 0.0625  0.     -0.0625  0.0625 -0.1875 -0.1875  0.1875 -0.0625 -0.1875\n",
            "   0.0625 -0.0625  0.0625  0.1875 -0.0625 -0.1875  0.0625]\n",
            " [-0.1875 -0.0625  0.     -0.1875  0.0625  0.0625 -0.0625  0.1875  0.0625\n",
            "   0.0625 -0.0625  0.0625 -0.0625 -0.0625  0.0625 -0.1875]\n",
            " [ 0.1875  0.0625 -0.1875  0.     -0.0625 -0.0625  0.0625 -0.1875 -0.0625\n",
            "  -0.0625  0.0625 -0.0625  0.0625  0.0625 -0.0625  0.1875]\n",
            " [-0.0625 -0.1875  0.0625 -0.0625  0.      0.1875 -0.1875  0.0625  0.1875\n",
            "  -0.0625  0.0625 -0.0625 -0.1875  0.0625  0.1875 -0.0625]\n",
            " [-0.0625 -0.1875  0.0625 -0.0625  0.1875  0.     -0.1875  0.0625  0.1875\n",
            "  -0.0625  0.0625 -0.0625 -0.1875  0.0625  0.1875 -0.0625]\n",
            " [ 0.0625  0.1875 -0.0625  0.0625 -0.1875 -0.1875  0.     -0.0625 -0.1875\n",
            "   0.0625 -0.0625  0.0625  0.1875 -0.0625 -0.1875  0.0625]\n",
            " [-0.1875 -0.0625  0.1875 -0.1875  0.0625  0.0625 -0.0625  0.      0.0625\n",
            "   0.0625 -0.0625  0.0625 -0.0625 -0.0625  0.0625 -0.1875]\n",
            " [-0.0625 -0.1875  0.0625 -0.0625  0.1875  0.1875 -0.1875  0.0625  0.\n",
            "  -0.0625  0.0625 -0.0625 -0.1875  0.0625  0.1875 -0.0625]\n",
            " [-0.0625  0.0625  0.0625 -0.0625 -0.0625 -0.0625  0.0625  0.0625 -0.0625\n",
            "   0.     -0.1875  0.1875  0.0625 -0.1875 -0.0625 -0.0625]\n",
            " [ 0.0625 -0.0625 -0.0625  0.0625  0.0625  0.0625 -0.0625 -0.0625  0.0625\n",
            "  -0.1875  0.     -0.1875 -0.0625  0.1875  0.0625  0.0625]\n",
            " [-0.0625  0.0625  0.0625 -0.0625 -0.0625 -0.0625  0.0625  0.0625 -0.0625\n",
            "   0.1875 -0.1875  0.      0.0625 -0.1875 -0.0625 -0.0625]\n",
            " [ 0.0625  0.1875 -0.0625  0.0625 -0.1875 -0.1875  0.1875 -0.0625 -0.1875\n",
            "   0.0625 -0.0625  0.0625  0.     -0.0625 -0.1875  0.0625]\n",
            " [ 0.0625 -0.0625 -0.0625  0.0625  0.0625  0.0625 -0.0625 -0.0625  0.0625\n",
            "  -0.1875  0.1875 -0.1875 -0.0625  0.      0.0625  0.0625]\n",
            " [-0.0625 -0.1875  0.0625 -0.0625  0.1875  0.1875 -0.1875  0.0625  0.1875\n",
            "  -0.0625  0.0625 -0.0625 -0.1875  0.0625  0.     -0.0625]\n",
            " [ 0.1875  0.0625 -0.1875  0.1875 -0.0625 -0.0625  0.0625 -0.1875 -0.0625\n",
            "  -0.0625  0.0625 -0.0625  0.0625  0.0625 -0.0625  0.    ]]\n"
          ],
          "name": "stdout"
        }
      ]
    },
    {
      "cell_type": "code",
      "metadata": {
        "colab": {
          "base_uri": "https://localhost:8080/"
        },
        "id": "sMKIVuynqV2i",
        "outputId": "7c7ff299-8371-411a-edf0-6850d2152673"
      },
      "source": [
        "test_pattern = np.array([[1, -1, 1, 1],\r\n",
        "                         [-1, -1, 1, -1],\r\n",
        "                         [1, 1, -1, -1],\r\n",
        "                         [1, -1, -1, 1]])\r\n",
        "test_pattern_flattened = test_pattern.flatten()\r\n",
        "print(test_pattern_flattened)"
      ],
      "execution_count": 84,
      "outputs": [
        {
          "output_type": "stream",
          "text": [
            "[ 1 -1  1  1 -1 -1  1 -1  1  1 -1 -1  1 -1 -1  1]\n"
          ],
          "name": "stdout"
        }
      ]
    },
    {
      "cell_type": "code",
      "metadata": {
        "id": "3IVHMadRotBC"
      },
      "source": [
        "def update(pattern, weight):\r\n",
        "  updated_pattern = pattern.copy()\r\n",
        "  for i in range(len(updated_pattern)):\r\n",
        "    updated_pattern[i] = np.sign(np.dot(weight[i], updated_pattern.T))\r\n",
        "  \r\n",
        "  updated_pattern = np.int64(updated_pattern)\r\n",
        "  return updated_pattern"
      ],
      "execution_count": 114,
      "outputs": []
    },
    {
      "cell_type": "code",
      "metadata": {
        "colab": {
          "base_uri": "https://localhost:8080/"
        },
        "id": "EZHORVLavh0F",
        "outputId": "cd745c3e-c89c-42ce-d7e1-42c6c0dcbdbc"
      },
      "source": [
        "update(test_pattern_flattened, my_scaled_weight)"
      ],
      "execution_count": 115,
      "outputs": [
        {
          "output_type": "execute_result",
          "data": {
            "text/plain": [
              "array([ 1,  1, -1,  1, -1, -1,  1, -1, -1,  1, -1,  1,  1, -1, -1,  1])"
            ]
          },
          "metadata": {
            "tags": []
          },
          "execution_count": 115
        }
      ]
    },
    {
      "cell_type": "code",
      "metadata": {
        "colab": {
          "base_uri": "https://localhost:8080/"
        },
        "id": "30uqwDbpvl4j",
        "outputId": "a925dd85-bb66-4497-f951-77de08262583"
      },
      "source": [
        "i = 0\r\n",
        "updated_pattern = test_pattern_flattened\r\n",
        "while(i < 10):\r\n",
        "  i += 1\r\n",
        "  updated_pattern = update(updated_pattern, my_scaled_weight)\r\n",
        "  print(updated_pattern)\r\n",
        "  if (first_pattern_flattened == updated_pattern).all():\r\n",
        "    print(\"Round:\" + str(i))\r\n",
        "    print(\"First pattern is predictable, because has minimum energy.\")\r\n",
        "    break\r\n",
        "  if (second_pattern_flattened == updated_pattern).all():\r\n",
        "    print(\"Round:\" + str(i))\r\n",
        "    print(\"Second pattern is predictable, because has minimum energy.\")\r\n",
        "    break\r\n",
        "  if (third_pattern_flattened == updated_pattern).all():\r\n",
        "    print(\"Round:\" + str(i))\r\n",
        "    print(\"Third pattern is predictable, because has minimum energy.\")\r\n",
        "    break"
      ],
      "execution_count": 117,
      "outputs": [
        {
          "output_type": "stream",
          "text": [
            "[ 1  1 -1  1 -1 -1  1 -1 -1  1 -1  1  1 -1 -1  1]\n",
            "Round:1\n",
            "Second pattern is predictable, because has minimum energy.\n"
          ],
          "name": "stdout"
        }
      ]
    },
    {
      "cell_type": "markdown",
      "metadata": {
        "id": "ZCG2DzYkqkF5"
      },
      "source": [
        "After first round, we reach second pattern that has minimum energy."
      ]
    },
    {
      "cell_type": "code",
      "metadata": {
        "colab": {
          "base_uri": "https://localhost:8080/"
        },
        "id": "OdoQtkCV7ZSc",
        "outputId": "61579838-8739-4e39-d8b5-0dccc06b4824"
      },
      "source": [
        "first_pattern_energy = - 0.5 * np.dot(np.dot(first_pattern_flattened.T, my_scaled_weight), first_pattern_flattened)\r\n",
        "print(\"First pattern energy =\", first_pattern_energy)"
      ],
      "execution_count": 121,
      "outputs": [
        {
          "output_type": "stream",
          "text": [
            "First pattern energy = -8.625\n"
          ],
          "name": "stdout"
        }
      ]
    },
    {
      "cell_type": "code",
      "metadata": {
        "colab": {
          "base_uri": "https://localhost:8080/"
        },
        "id": "ZkonaNFTrk2P",
        "outputId": "fd1bc464-781f-49c2-9c0f-c50c8dab7f03"
      },
      "source": [
        "second_pattern_energy = - 0.5 * np.dot(np.dot(second_pattern_flattened.T, my_scaled_weight), second_pattern_flattened)\r\n",
        "print(\"Second pattern energy =\", second_pattern_energy)"
      ],
      "execution_count": 122,
      "outputs": [
        {
          "output_type": "stream",
          "text": [
            "Second pattern energy = -9.625\n"
          ],
          "name": "stdout"
        }
      ]
    },
    {
      "cell_type": "code",
      "metadata": {
        "colab": {
          "base_uri": "https://localhost:8080/"
        },
        "id": "6bwLdQUCrnMe",
        "outputId": "f94c1d83-4c00-4f1a-836a-e35d0c22cda4"
      },
      "source": [
        "third_pattern_energy = - 0.5 * np.dot(np.dot(third_pattern_flattened.T, my_scaled_weight), third_pattern_flattened)\r\n",
        "print(\"Third pattern energy =\", third_pattern_energy)"
      ],
      "execution_count": 123,
      "outputs": [
        {
          "output_type": "stream",
          "text": [
            "Third pattern energy = -7.75\n"
          ],
          "name": "stdout"
        }
      ]
    },
    {
      "cell_type": "code",
      "metadata": {
        "id": "5hQP0qsTsRRW"
      },
      "source": [
        ""
      ],
      "execution_count": null,
      "outputs": []
    }
  ]
}