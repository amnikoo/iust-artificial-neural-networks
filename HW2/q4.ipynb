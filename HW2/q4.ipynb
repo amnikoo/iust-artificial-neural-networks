{
  "nbformat": 4,
  "nbformat_minor": 0,
  "metadata": {
    "colab": {
      "name": "Untitled",
      "provenance": [],
      "collapsed_sections": [],
      "toc_visible": true
    },
    "kernelspec": {
      "name": "python3",
      "display_name": "Python 3"
    }
  },
  "cells": [
    {
      "cell_type": "markdown",
      "metadata": {
        "id": "vDynOYRtULBm"
      },
      "source": [
        "# LVQ implementation"
      ]
    },
    {
      "cell_type": "markdown",
      "metadata": {
        "id": "sY3ZKsRpW-SQ"
      },
      "source": [
        "## Load data"
      ]
    },
    {
      "cell_type": "code",
      "metadata": {
        "id": "w12hWpabjnpc"
      },
      "source": [
        "# Code to read file into Colaboratory:!pip install -U -q PyDrive\r\n",
        "from pydrive.auth import GoogleAuth\r\n",
        "from pydrive.drive import GoogleDrive\r\n",
        "from google.colab import auth\r\n",
        "from oauth2client.client import GoogleCredentials# Authenticate and create the PyDrive client.\r\n",
        "auth.authenticate_user()\r\n",
        "gauth = GoogleAuth()\r\n",
        "gauth.credentials = GoogleCredentials.get_application_default()\r\n",
        "drive = GoogleDrive(gauth)"
      ],
      "execution_count": 1,
      "outputs": []
    },
    {
      "cell_type": "code",
      "metadata": {
        "id": "l9LUguMTs_77"
      },
      "source": [
        "data_set_id = '1fL7_D_ISApzuFQcW5hNESuleCvWbdotq'\r\n",
        "downloaded = drive.CreateFile({'id':data_set_id})\r\n",
        "downloaded.GetContentFile('data set.txt')"
      ],
      "execution_count": 2,
      "outputs": []
    },
    {
      "cell_type": "code",
      "metadata": {
        "id": "xlLFhI6u2Tur"
      },
      "source": [
        "import numpy as np"
      ],
      "execution_count": 3,
      "outputs": []
    },
    {
      "cell_type": "code",
      "metadata": {
        "colab": {
          "base_uri": "https://localhost:8080/"
        },
        "id": "KYqNS3vvwWt2",
        "outputId": "ea6db290-941f-4208-9e55-5d6b188d4afb"
      },
      "source": [
        "data_set = []\r\n",
        "label_set = []\r\n",
        "\r\n",
        "f = open(\"data set.txt\", \"r\")\r\n",
        "for line in f.readlines():\r\n",
        "  temp = []\r\n",
        "  for item in (line.split(\",\")):\r\n",
        "    temp.append(float(item))\r\n",
        "  data_set.append(temp[:-1])\r\n",
        "  label_set.append(int(temp[-1]))\r\n",
        "\r\n",
        "data_set = np.array(data_set)\r\n",
        "label_set = np.array(label_set)\r\n",
        "N = len(data_set)\r\n",
        "print(N)"
      ],
      "execution_count": 233,
      "outputs": [
        {
          "output_type": "stream",
          "text": [
            "1372\n"
          ],
          "name": "stdout"
        }
      ]
    },
    {
      "cell_type": "markdown",
      "metadata": {
        "id": "cGfrMaOEXLnT"
      },
      "source": [
        "## Pre-process data"
      ]
    },
    {
      "cell_type": "code",
      "metadata": {
        "id": "2pNKRPUrdk4K"
      },
      "source": [
        "data_set_normalized = (data_set - np.min(data_set)) / (np.max(data_set) - np.min(data_set))"
      ],
      "execution_count": 234,
      "outputs": []
    },
    {
      "cell_type": "code",
      "metadata": {
        "colab": {
          "base_uri": "https://localhost:8080/"
        },
        "id": "5Mjb5FkseirR",
        "outputId": "95bedbb9-9c85-45dc-de8b-4d64c7ff4eda"
      },
      "source": [
        "data_set_normalized"
      ],
      "execution_count": 235,
      "outputs": [
        {
          "output_type": "execute_result",
          "data": {
            "text/plain": [
              "array([[0.54872005, 0.70785003, 0.34591883, 0.42037539],\n",
              "       [0.57787732, 0.69211842, 0.35691866, 0.3883535 ],\n",
              "       [0.55642971, 0.35124998, 0.49517515, 0.43783379],\n",
              "       ...,\n",
              "       [0.31617167, 0.00992098, 0.98945758, 0.3468715 ],\n",
              "       [0.32205801, 0.17004148, 0.825416  , 0.39402533],\n",
              "       [0.35429094, 0.41371776, 0.51914954, 0.47217867]])"
            ]
          },
          "metadata": {
            "tags": []
          },
          "execution_count": 235
        }
      ]
    },
    {
      "cell_type": "code",
      "metadata": {
        "id": "SZvjWZ3rAvFm"
      },
      "source": [
        "# Shuffle data\r\n",
        "data = list(zip(data_set_normalized.tolist(), label_set.tolist()))\r\n",
        "np.random.shuffle(data)\r\n",
        "data = list(zip(*data))\r\n",
        "data_set_normalized, label_set = np.array(data[0]), np.array(data[1])"
      ],
      "execution_count": 236,
      "outputs": []
    },
    {
      "cell_type": "code",
      "metadata": {
        "id": "SuCtib47AHJA"
      },
      "source": [
        "label0_indexes = np.array(np.where(label_set == 0)[0])\r\n",
        "label1_indexes = np.array(np.where(label_set == 1)[0])"
      ],
      "execution_count": 247,
      "outputs": []
    },
    {
      "cell_type": "code",
      "metadata": {
        "id": "goZHV9hQ2GAZ"
      },
      "source": [
        "class0_number = len(label0_indexes)\r\n",
        "class1_number = len(label1_indexes)"
      ],
      "execution_count": 248,
      "outputs": []
    },
    {
      "cell_type": "code",
      "metadata": {
        "colab": {
          "base_uri": "https://localhost:8080/"
        },
        "id": "A-2EosTG3dmU",
        "outputId": "b10f6412-cb6c-489e-bcff-807c7cb0c91a"
      },
      "source": [
        "print(\"Class zero number:\", class0_number)\r\n",
        "print(\"Class one number:\", class1_number)"
      ],
      "execution_count": 249,
      "outputs": [
        {
          "output_type": "stream",
          "text": [
            "Class zero number: 762\n",
            "Class one number: 610\n"
          ],
          "name": "stdout"
        }
      ]
    },
    {
      "cell_type": "code",
      "metadata": {
        "id": "gFu0dWsVCGWM"
      },
      "source": [
        "class0_training_size = int(class0_number * 0.9)\r\n",
        "class1_training_size = int(class1_number * 0.9)\r\n",
        "x_train = []\r\n",
        "y_train = []\r\n",
        "x_val = []\r\n",
        "y_val = []\r\n",
        "for i in label0_indexes[:class0_training_size]:\r\n",
        "  x_train.append(data_set_normalized[i])\r\n",
        "for i in label1_indexes[:class1_training_size]:\r\n",
        "  x_train.append(data_set_normalized[i])\r\n",
        "\r\n",
        "for i in label0_indexes[class0_training_size:]:\r\n",
        "  x_val.append(data_set_normalized[i])\r\n",
        "for i in label1_indexes[:class1_training_size]:\r\n",
        "  x_val.append(data_set_normalized[i])\r\n",
        "\r\n",
        "x_train = np.array(x_train)\r\n",
        "x_val = np.array(x_val)\r\n",
        "y_train = np.array(class0_training_size * [0] + class1_training_size * [1])\r\n",
        "y_val = np.array((class0_number - class0_training_size) * [0] + (class1_number - class1_training_size) * [1])"
      ],
      "execution_count": 252,
      "outputs": []
    },
    {
      "cell_type": "code",
      "metadata": {
        "id": "ai5O10jthEn3"
      },
      "source": [
        "# Shuffle data\r\n",
        "data = list(zip(x_train.tolist(), y_train.tolist()))\r\n",
        "np.random.shuffle(data)\r\n",
        "data = list(zip(*data))\r\n",
        "x_train, y_train = np.array(data[0]), np.array(data[1])\r\n",
        "\r\n",
        "data = list(zip(x_val.tolist(), y_val.tolist()))\r\n",
        "np.random.shuffle(data)\r\n",
        "data = list(zip(*data))\r\n",
        "x_val, y_val = np.array(data[0]), np.array(data[1])"
      ],
      "execution_count": 253,
      "outputs": []
    },
    {
      "cell_type": "markdown",
      "metadata": {
        "id": "UC7MPKx3XYb2"
      },
      "source": [
        "## LVQ1"
      ]
    },
    {
      "cell_type": "code",
      "metadata": {
        "id": "xsMb4XxjBtYF"
      },
      "source": [
        "class LVQ1:\r\n",
        "\r\n",
        "  def __init__(self, n_weights, lr=0.03):\r\n",
        "    self.lr = lr\r\n",
        "    self.n_updates_max = 0 # For decrease learning rate\r\n",
        "    self.n_updates = 0 # For decrease learning rate\r\n",
        "    self.n_correct_prediction = 0 # For accuracy\r\n",
        "    self.n_weights = n_weights # n_weights is even\r\n",
        "    self.weights = []\r\n",
        "\r\n",
        "  def winner(self, x, y): # Find winner weights\r\n",
        "    x = np.expand_dims(x, axis=0)\r\n",
        "    distance = np.linalg.norm(x - self.weights, axis=1)\r\n",
        "    return int(distance.argmin())\r\n",
        "  \r\n",
        "  def update(self, x, y, J): # Update weights according to conditions applied\r\n",
        "    self.n_updates += 1\r\n",
        "    if y == J:\r\n",
        "      self.weights[J] = self.weights[J] + self.lr * (x - self.weights[J])\r\n",
        "    else:\r\n",
        "      self.weights[J] = self.weights[J] - self.lr * (x - self.weights[J])\r\n",
        "    self.lr = self.lr * (1 - self.n_updates / self.n_updates_max)\r\n",
        "  \r\n",
        "  def choose_weights(self, x_train): # Here we have two classes, then we choose half from class0 and half from class1 as LVQ weights.\r\n",
        "    n_train_0 = x_train[y_train == 0].shape[0]\r\n",
        "    n_train_1 = x_train[y_train == 1].shape[0]\r\n",
        "    x_train_0 = x_train[y_train == 0]\r\n",
        "    x_train_1 = x_train[y_train == 1]\r\n",
        "    for i in range(self.n_weights // 2):\r\n",
        "      self.weights.append(x_train_0[int(i * n_train_0 / (self.n_weights / 2))])\r\n",
        "    for i in range(self.n_weights // 2):\r\n",
        "      self.weights.append(x_train_1[int(i * n_train_1 / (self.n_weights / 2))])\r\n",
        "    self.weights = np.array(self.weights)\r\n",
        "  \r\n",
        "  def train(self, x_train, y_train, x_val, y_val, epochs):\r\n",
        "    self.choose_weights(x_train)\r\n",
        "    n_train = x_train.shape[0]\r\n",
        "    self.n_updates_max = n_train * epochs\r\n",
        "    for e in range(epochs):\r\n",
        "      self.n_correct_prediction = 0\r\n",
        "      for i in range(n_train):\r\n",
        "        x, y = x_train[i], y_train[i]\r\n",
        "        J = self.winner(x, y)\r\n",
        "        J = int(J > len(self.weights) / 2)\r\n",
        "        if y == J:\r\n",
        "          self.n_correct_prediction += 1\r\n",
        "        self.update(x, y, J)\r\n",
        "      \r\n",
        "      train_acc = (self.n_correct_prediction / n_train) * 100\r\n",
        "      print(\"training acc: {:.2f} %\".format(train_acc))\r\n",
        "      self.evaluate(x_val, y_val)\r\n",
        "      \r\n",
        "  def evaluate(self, x_val, y_val):\r\n",
        "    n_val = x_val.shape[0]\r\n",
        "    self.n_correct_prediction = 0\r\n",
        "    for i in range(n_val):\r\n",
        "      x, y = x_val[i], y_val[i]\r\n",
        "      J = self.winner(x, y)\r\n",
        "      J = int(J > len(self.weights) / 2)\r\n",
        "      if y == J:\r\n",
        "        self.n_correct_prediction += 1\r\n",
        "    \r\n",
        "    val_acc = (self.n_correct_prediction / n_val) * 100\r\n",
        "    print(\"val acc: {:.2f} %\".format(val_acc))\r\n"
      ],
      "execution_count": 406,
      "outputs": []
    },
    {
      "cell_type": "code",
      "metadata": {
        "id": "iXyvZnHBKTJh",
        "colab": {
          "base_uri": "https://localhost:8080/"
        },
        "outputId": "8534e2a1-82d7-451e-8885-ac4ed9f4845f"
      },
      "source": [
        "lvq1_model = LVQ1(60) # 60 weights\r\n",
        "lvq1_model.train(x_train=x_train, y_train=y_train, x_val=x_val, y_val=y_val, epochs=8)"
      ],
      "execution_count": 418,
      "outputs": [
        {
          "output_type": "stream",
          "text": [
            "training acc: 95.06 %\n",
            "val acc: 96.38 %\n",
            "training acc: 95.06 %\n",
            "val acc: 96.38 %\n",
            "training acc: 95.06 %\n",
            "val acc: 96.38 %\n",
            "training acc: 95.06 %\n",
            "val acc: 96.38 %\n",
            "training acc: 95.06 %\n",
            "val acc: 96.38 %\n",
            "training acc: 95.06 %\n",
            "val acc: 96.38 %\n",
            "training acc: 95.06 %\n",
            "val acc: 96.38 %\n",
            "training acc: 95.06 %\n",
            "val acc: 96.38 %\n"
          ],
          "name": "stdout"
        }
      ]
    },
    {
      "cell_type": "markdown",
      "metadata": {
        "id": "zoQHa1AmXcLP"
      },
      "source": [
        "## LVQ2.1"
      ]
    },
    {
      "cell_type": "code",
      "metadata": {
        "id": "jqM_n5KNwB9B"
      },
      "source": [
        "class LVQ2_1:\r\n",
        "\r\n",
        "  def __init__(self, n_weights, epsilon=0.1, lr=0.01):\r\n",
        "    self.lr = lr\r\n",
        "    self.epsilon = epsilon\r\n",
        "    self.update_flag = False\r\n",
        "    self.n_updates_max = 0 # For decrease learning rate\r\n",
        "    self.n_updates = 0 # For decrease learning rate\r\n",
        "    self.n_correct_prediction = 0 # For accuracy\r\n",
        "    self.n_weights = n_weights # n_weights is even\r\n",
        "    self.weights = []\r\n",
        "  \r\n",
        "  def winner(self, x, y): # Find winner weights and check for update if required according to LVQ 2.1 algorithm\r\n",
        "    x = np.expand_dims(x, axis=0)\r\n",
        "    distance = np.linalg.norm(x - self.weights, axis=1)\r\n",
        "    sorted_argumets = distance.argsort()\r\n",
        "    winner_weights = sorted_argumets[:2]\r\n",
        "    winner_distance, runner_up_distance = distance[winner_weights]\r\n",
        "\r\n",
        "    if runner_up_distance == 0 or winner_distance == 0: # Prevent from division by zero\r\n",
        "      self.update_flag = False\r\n",
        "      return winner_weights\r\n",
        "    if min(winner_distance / runner_up_distance, runner_up_distance / winner_distance) > (1 - self.epsilon) and\\\r\n",
        "    max(winner_distance / runner_up_distance, runner_up_distance / winner_distance) < (1 + self.epsilon):\r\n",
        "      self.update_flag = True\r\n",
        "    else:\r\n",
        "      self.update_flag = False\r\n",
        "    return winner_weights\r\n",
        "  \r\n",
        "  def update(self, x, y, first_winner, second_winner):# Update weights according to conditions applied\r\n",
        "    if self.update_flag:\r\n",
        "      if (y == first_winner and y != second_winner) or (y == second_winner and y != first_winner): # One of them from correct class and another does not\r\n",
        "        self.n_updates += 1\r\n",
        "        # do not care whether is closer to correct class or to incorrect class\r\n",
        "        self.weights[first_winner] = self.weights[first_winner] + self.lr * (x - self.weights[first_winner])\r\n",
        "        self.weights[second_winner] = self.weights[second_winner] - self.lr * (x - self.weights[second_winner])\r\n",
        "        self.lr = self.lr * (1 - self.n_updates / self.n_updates_max)\r\n",
        "  \r\n",
        "  def choose_weights(self, x_train): # Here we have two classes, then we choose half from class0 and half from class1 as LVQ weights.\r\n",
        "    n_train_0 = x_train[y_train == 0].shape[0]\r\n",
        "    n_train_1 = x_train[y_train == 1].shape[0]\r\n",
        "    x_train_0 = x_train[y_train == 0]\r\n",
        "    x_train_1 = x_train[y_train == 1]\r\n",
        "    for i in range(self.n_weights // 2):\r\n",
        "      self.weights.append(x_train_0[int(i * n_train_0 / (self.n_weights / 2))])\r\n",
        "    for i in range(self.n_weights // 2):\r\n",
        "      self.weights.append(x_train_1[int(i * n_train_1 / (self.n_weights / 2))])\r\n",
        "    self.weights = np.array(self.weights)\r\n",
        "  \r\n",
        "  def train(self, x_train, y_train, x_val, y_val, epochs):\r\n",
        "    self.choose_weights(x_train)\r\n",
        "    n_train = x_train.shape[0]\r\n",
        "    self.n_updates_max = n_train * epochs\r\n",
        "    for e in range(epochs):\r\n",
        "      self.n_correct_prediction = 0\r\n",
        "      for i in range(n_train):\r\n",
        "        x, y = x_train[i], y_train[i]\r\n",
        "        winner_weights = self.winner(x, y)\r\n",
        "        first_winner = int(winner_weights[0] > len(self.weights) / 2)\r\n",
        "        second_winner = int(winner_weights[1] > len(self.weights) / 2)\r\n",
        "        if y == first_winner:\r\n",
        "          self.n_correct_prediction += 1\r\n",
        "        self.update(x, y, first_winner, second_winner)\r\n",
        "      \r\n",
        "      train_acc = (self.n_correct_prediction / n_train) * 100\r\n",
        "      print(\"training acc: {:.2f} %\".format(train_acc))\r\n",
        "      self.evaluate(x_val, y_val)\r\n",
        "      \r\n",
        "  def evaluate(self, x_val, y_val):\r\n",
        "    n_val = x_val.shape[0]\r\n",
        "    self.n_correct_prediction = 0\r\n",
        "    for i in range(n_val):\r\n",
        "      x, y = x_val[i], y_val[i]\r\n",
        "      winner_weights = self.winner(x, y)\r\n",
        "      first_winner = int(winner_weights[0] > len(self.weights) / 2)\r\n",
        "      second_winner = int(winner_weights[1] > len(self.weights) / 2)\r\n",
        "      if y == first_winner:\r\n",
        "        self.n_correct_prediction += 1\r\n",
        "    \r\n",
        "    val_acc = (self.n_correct_prediction / n_val) * 100\r\n",
        "    print(\"val acc: {:.2f} %\".format(val_acc))\r\n",
        "  "
      ],
      "execution_count": 419,
      "outputs": []
    },
    {
      "cell_type": "code",
      "metadata": {
        "colab": {
          "base_uri": "https://localhost:8080/"
        },
        "id": "s7sK-3Tds6ks",
        "outputId": "ef4b1d75-35c0-49b6-87c3-5d0feb670914"
      },
      "source": [
        "lvq2_1_model = LVQ2_1(60) # 60 weights and small value for learning rate and relatively low epochs\r\n",
        "lvq2_1_model.train(x_train=x_train, y_train=y_train, x_val=x_val, y_val=y_val, epochs=5) "
      ],
      "execution_count": 420,
      "outputs": [
        {
          "output_type": "stream",
          "text": [
            "training acc: 94.98 %\n",
            "val acc: 96.38 %\n",
            "training acc: 94.98 %\n",
            "val acc: 96.38 %\n",
            "training acc: 94.98 %\n",
            "val acc: 96.38 %\n",
            "training acc: 94.98 %\n",
            "val acc: 96.38 %\n",
            "training acc: 94.98 %\n",
            "val acc: 96.38 %\n"
          ],
          "name": "stdout"
        }
      ]
    },
    {
      "cell_type": "markdown",
      "metadata": {
        "id": "n6DrSbO1Xhty"
      },
      "source": [
        "## LVQ3"
      ]
    },
    {
      "cell_type": "code",
      "metadata": {
        "id": "5xugKjeB99Ag"
      },
      "source": [
        "class LVQ3:\r\n",
        "\r\n",
        "  def __init__(self, n_weights, epsilon=0.2, lr=0.03):\r\n",
        "    self.lr = lr\r\n",
        "    self.epsilon = epsilon\r\n",
        "    self.update_flag = False\r\n",
        "    self.n_updates_max = 0 # For decrease learning rate\r\n",
        "    self.n_updates = 0 # For decrease learning rate\r\n",
        "    self.n_correct_prediction = 0 # For accuracy\r\n",
        "    self.m = np.random.uniform(0.1, 0.5)\r\n",
        "    self.n_weights = n_weights # n_weights is even\r\n",
        "    self.weights = []\r\n",
        "  \r\n",
        "  def winner(self, x, y): # Find winner weights and check for update if required according to LVQ 3 algorithm\r\n",
        "    x = np.expand_dims(x, axis=0)\r\n",
        "    distance = np.linalg.norm(x - self.weights, axis=1)\r\n",
        "    sorted_argumets = distance.argsort()\r\n",
        "    winner_weights = sorted_argumets[:2]\r\n",
        "    winner_distance, runner_up_distance = distance[winner_weights]\r\n",
        "\r\n",
        "    if runner_up_distance == 0 or winner_distance == 0: # Prevent from division by zero\r\n",
        "      self.update_flag = False\r\n",
        "      return winner_weights\r\n",
        "    if min(winner_distance / runner_up_distance, runner_up_distance / winner_distance) > (1 - self.epsilon) * (1 + self.epsilon):\r\n",
        "      self.update_flag = True\r\n",
        "    else:\r\n",
        "      self.update_flag = False\r\n",
        "    return winner_weights\r\n",
        "  \r\n",
        "  def update(self, x, y, first_winner, second_winner):# Update weights according to conditions applied\r\n",
        "    if self.update_flag:\r\n",
        "      self.n_updates += 1\r\n",
        "      self.lr = self.lr * (1 - self.n_updates / self.n_updates_max)\r\n",
        "      if y == first_winner and y == second_winner:\r\n",
        "        self.beta = self.m * self.lr\r\n",
        "        self.weights[first_winner] = self.weights[first_winner] + self.beta * (x - self.weights[first_winner])\r\n",
        "        self.weights[second_winner] = self.weights[second_winner] + self.beta * (x - self.weights[second_winner])\r\n",
        "        return\r\n",
        "      if y == first_winner:\r\n",
        "        self.weights[first_winner] = self.weights[first_winner] + self.lr * (x - self.weights[first_winner])\r\n",
        "        self.weights[second_winner] = self.weights[second_winner] - self.lr * (x - self.weights[second_winner])\r\n",
        "  \r\n",
        "  def choose_weights(self, x_train): # Here we have two classes, then we choose half from class0 and half from class1 as LVQ weights.\r\n",
        "    n_train_0 = x_train[y_train == 0].shape[0]\r\n",
        "    n_train_1 = x_train[y_train == 1].shape[0]\r\n",
        "    x_train_0 = x_train[y_train == 0]\r\n",
        "    x_train_1 = x_train[y_train == 1]\r\n",
        "    for i in range(self.n_weights // 2):\r\n",
        "      self.weights.append(x_train_0[int(i * n_train_0 / (self.n_weights / 2))])\r\n",
        "    for i in range(self.n_weights // 2):\r\n",
        "      self.weights.append(x_train_1[int(i * n_train_1 / (self.n_weights / 2))])\r\n",
        "    self.weights = np.array(self.weights)\r\n",
        "  \r\n",
        "  def train(self, x_train, y_train, x_val, y_val, epochs):\r\n",
        "    self.choose_weights(x_train)\r\n",
        "    n_train = x_train.shape[0]\r\n",
        "    self.n_updates_max = n_train * epochs\r\n",
        "    for e in range(epochs):\r\n",
        "      self.n_correct_prediction = 0\r\n",
        "      for i in range(n_train):\r\n",
        "        x, y = x_train[i], y_train[i]\r\n",
        "        winner_weights = self.winner(x, y)\r\n",
        "        first_winner = int(winner_weights[0] > len(self.weights) / 2)\r\n",
        "        second_winner = int(winner_weights[1] > len(self.weights) / 2)\r\n",
        "        if y == first_winner:\r\n",
        "          self.n_correct_prediction += 1\r\n",
        "        self.update(x, y, first_winner, second_winner)\r\n",
        "      \r\n",
        "      train_acc = (self.n_correct_prediction / n_train) * 100\r\n",
        "      print(\"training acc: {:.2f} %\".format(train_acc))\r\n",
        "      self.evaluate(x_val, y_val)\r\n",
        "      \r\n",
        "  def evaluate(self, x_val, y_val):\r\n",
        "    n_val = x_val.shape[0]\r\n",
        "    self.n_correct_prediction = 0\r\n",
        "    for i in range(n_val):\r\n",
        "      x, y = x_val[i], y_val[i]\r\n",
        "      winner_weights = self.winner(x, y)\r\n",
        "      first_winner = int(winner_weights[0] > len(self.weights) / 2)\r\n",
        "      second_winner = int(winner_weights[1] > len(self.weights) / 2)\r\n",
        "      if y == first_winner:\r\n",
        "        self.n_correct_prediction += 1\r\n",
        "    \r\n",
        "    val_acc = (self.n_correct_prediction / n_val) * 100\r\n",
        "    print(\"val acc: {:.2f} %\".format(val_acc))\r\n",
        "  "
      ],
      "execution_count": 410,
      "outputs": []
    },
    {
      "cell_type": "code",
      "metadata": {
        "colab": {
          "base_uri": "https://localhost:8080/"
        },
        "id": "nFGyyjWOFczp",
        "outputId": "530e4430-c001-4f2c-9c27-24d5ccc38e14"
      },
      "source": [
        "lvq3_model = LVQ3(60) # 60 weights\r\n",
        "lvq3_model.train(x_train=x_train, y_train=y_train, x_val=x_val, y_val=y_val, epochs=8)"
      ],
      "execution_count": 417,
      "outputs": [
        {
          "output_type": "stream",
          "text": [
            "training acc: 94.98 %\n",
            "val acc: 96.38 %\n",
            "training acc: 94.98 %\n",
            "val acc: 96.38 %\n",
            "training acc: 94.98 %\n",
            "val acc: 96.38 %\n",
            "training acc: 94.98 %\n",
            "val acc: 96.38 %\n",
            "training acc: 94.98 %\n",
            "val acc: 96.38 %\n",
            "training acc: 94.98 %\n",
            "val acc: 96.38 %\n",
            "training acc: 94.98 %\n",
            "val acc: 96.38 %\n",
            "training acc: 94.98 %\n",
            "val acc: 96.38 %\n"
          ],
          "name": "stdout"
        }
      ]
    },
    {
      "cell_type": "markdown",
      "metadata": {
        "id": "2zXzyW-NdjQn"
      },
      "source": [
        "[reffrence for LVQ algorithm](http://ccy.dd.ncu.edu.tw/~chen/course/Neural/ch4/index.htm)"
      ]
    }
  ]
}